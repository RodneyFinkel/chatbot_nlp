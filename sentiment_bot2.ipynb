{
 "cells": [
  {
   "cell_type": "code",
   "execution_count": null,
   "metadata": {},
   "outputs": [],
   "source": [
    "import nltk\n",
    "from nltk.sentiment import SentimentIntensityAnalyzer\n",
    "\n",
    "nltk.download('vader_lexicon')\n",
    "nltk.download('twitter_samples')\n",
    "\n",
    "analyzer = SentimentIntensityAnalyzer()"
   ]
  },
  {
   "cell_type": "code",
   "execution_count": 3,
   "metadata": {},
   "outputs": [
    {
     "data": {
      "text/plain": [
       "{'neg': 0.0, 'neu': 0.42, 'pos': 0.58, 'compound': 0.8513}"
      ]
     },
     "execution_count": 3,
     "metadata": {},
     "output_type": "execute_result"
    }
   ],
   "source": [
    "text1 = 'Hey, what a beautiful day! How amazing it is!'\n",
    "if analyzer.polarity_scores(text1)['compound'] > 0:\n",
    "    print('positve text')\n",
    "else:\n",
    "    print('negative text')\n",
    "analyzer.polarity_scores(text1)"
   ]
  },
  {
   "cell_type": "code",
   "execution_count": 7,
   "metadata": {},
   "outputs": [
    {
     "name": "stdout",
     "output_type": "stream",
     "text": [
      "My phone is so shit, it always runs out of memory :( ...2 many nudes\n",
      "{'neg': 0.366, 'neu': 0.634, 'pos': 0.0, 'compound': -0.8184}\n",
      "negative text\n"
     ]
    }
   ],
   "source": [
    "tweet2 = nltk.corpus.twitter_samples.strings()[1045]\n",
    "print(tweet2)\n",
    "print(analyzer.polarity_scores(tweet2))\n",
    "if analyzer.polarity_scores(tweet2)['compound'] > 0:\n",
    "    print('positve text')\n",
    "else:\n",
    "    print('negative text')"
   ]
  }
 ],
 "metadata": {
  "kernelspec": {
   "display_name": "Python 3 (ipykernel)",
   "language": "python",
   "name": "python3"
  },
  "language_info": {
   "codemirror_mode": {
    "name": "ipython",
    "version": 3
   },
   "file_extension": ".py",
   "mimetype": "text/x-python",
   "name": "python",
   "nbconvert_exporter": "python",
   "pygments_lexer": "ipython3",
   "version": "3.9.1"
  },
  "orig_nbformat": 4
 },
 "nbformat": 4,
 "nbformat_minor": 2
}
